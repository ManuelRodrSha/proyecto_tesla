{
 "cells": [
  {
   "cell_type": "code",
   "execution_count": 61,
   "metadata": {},
   "outputs": [],
   "source": [
    "from selenium import webdriver\n",
    "from selenium.webdriver.common.by import By\n",
    "from selenium.webdriver.common.keys import Keys\n",
    "from selenium.webdriver.support.ui import WebDriverWait\n",
    "from selenium.webdriver.support import expected_conditions as EC\n",
    "from selenium.common.exceptions import NoSuchElementException, TimeoutException\n",
    "from selenium.webdriver.common.action_chains import ActionChains\n",
    "import time\n",
    "import pandas as pd"
   ]
  },
  {
   "cell_type": "code",
   "execution_count": 62,
   "metadata": {},
   "outputs": [],
   "source": [
    "### Configuración de Chrome ###\n",
    "c_options = webdriver.ChromeOptions()\n",
    "c_options.add_argument(\"--start-maximized\")\n",
    "c_options.add_argument(\"--disable-blink-features=AutomationControlled\")\n",
    "c_driver = webdriver.Chrome(options=c_options)"
   ]
  },
  {
   "cell_type": "code",
   "execution_count": 63,
   "metadata": {},
   "outputs": [],
   "source": [
    "# Abrir AutoScout24 en la sección de Tesla\n",
    "url_autoscout = \"https://www.autoscout24.es/lst/tesla\"\n",
    "c_driver.get(url_autoscout)\n",
    "time.sleep(3)"
   ]
  },
  {
   "cell_type": "code",
   "execution_count": 64,
   "metadata": {},
   "outputs": [],
   "source": [
    "# Aceptar cookies si es necesario\n",
    "try:\n",
    "    boton_cookies = c_driver.find_element(By.CLASS_NAME, \"_consent-accept_1lphq_114\")\n",
    "    boton_cookies.click()\n",
    "    time.sleep(2)\n",
    "except NoSuchElementException:\n",
    "    print(\"No se encontró el botón de cookies. Continuando...\")"
   ]
  },
  {
   "cell_type": "code",
   "execution_count": 65,
   "metadata": {},
   "outputs": [],
   "source": [
    "### Función para obtener los artículos ###\n",
    "def obtener_articulos_pagina():\n",
    "    try:\n",
    "        # Buscar todos los artículos de coches en la página\n",
    "        articulos = c_driver.find_elements(By.TAG_NAME, \"article\")\n",
    "        return articulos\n",
    "    except NoSuchElementException:\n",
    "        print(\"No se encontraron artículos en esta página.\")\n",
    "        return []"
   ]
  },
  {
   "cell_type": "code",
   "execution_count": 66,
   "metadata": {},
   "outputs": [],
   "source": [
    "def generar_diccionario_articulo(articulo):\n",
    "    \"\"\"Genera un diccionario con los datos de un artículo, incluyendo color exterior.\"\"\"\n",
    "    diccionario = {}\n",
    "    try:\n",
    "        # Modelo (atributo 'data-model')\n",
    "        diccionario['modelo'] = articulo.get_attribute(\"data-model\").capitalize()\n",
    "\n",
    "        # Kilometraje\n",
    "        try:\n",
    "            kilometraje = articulo.find_element(By.CSS_SELECTOR, '[data-testid=\"VehicleDetails-mileage_road\"]').text\n",
    "            diccionario['kilometraje'] = kilometraje\n",
    "        except NoSuchElementException:\n",
    "            diccionario['kilometraje'] = \"No especificado\"\n",
    "\n",
    "        # Precio\n",
    "        try:\n",
    "            precio = articulo.find_element(By.CSS_SELECTOR, '[data-testid=\"regular-price\"]').text\n",
    "            diccionario['precio'] = precio\n",
    "        except NoSuchElementException:\n",
    "            diccionario['precio'] = \"No especificado\"\n",
    "\n",
    "        # Navegar a la página del artículo para extraer el color exterior\n",
    "        try:\n",
    "            ActionChains(c_driver).key_down(Keys.CONTROL).click(articulo).key_up(Keys.CONTROL).perform()\n",
    "            time.sleep(3)  # Esperar a que cargue la nueva pestaña\n",
    "\n",
    "            # Cambiar a la nueva pestaña\n",
    "            c_driver.switch_to.window(c_driver.window_handles[-1])\n",
    "\n",
    "            # Buscar el color exterior en la sección \"Color y Tapicería\"\n",
    "            try:\n",
    "                color_seccion = c_driver.find_element(By.XPATH, \"//section[@data-cy='color-section']\")\n",
    "                color = color_seccion.find_element(By.XPATH, \".//dd\").text\n",
    "                diccionario['color'] = color\n",
    "            except NoSuchElementException:\n",
    "                diccionario['color'] = \"No especificado\"\n",
    "\n",
    "            # Cerrar la pestaña actual y volver a la pestaña principal\n",
    "            c_driver.close()\n",
    "            c_driver.switch_to.window(c_driver.window_handles[0])\n",
    "        except Exception as e:\n",
    "            print(f\"Error al extraer el color: {e}\")\n",
    "            diccionario['color'] = \"No especificado\"\n",
    "\n",
    "    except Exception as e:\n",
    "        print(f\"Error procesando artículo: {e}\")\n",
    "        return None\n",
    "\n",
    "    return diccionario"
   ]
  },
  {
   "cell_type": "code",
   "execution_count": 67,
   "metadata": {},
   "outputs": [],
   "source": [
    "def extraer_datos_tesla():\n",
    "    \"\"\"Extrae datos de todas las páginas navegando en AutoScout24.\"\"\"\n",
    "    lista_datos = []\n",
    "    while True:\n",
    "        # Obtener artículos de la página actual\n",
    "        articulos = obtener_articulos_pagina()\n",
    "        for articulo in articulos:\n",
    "            datos_articulo = generar_diccionario_articulo(articulo)\n",
    "            if datos_articulo:\n",
    "                lista_datos.append(datos_articulo)\n",
    "\n",
    "        # Intentar pasar a la siguiente página\n",
    "        try:\n",
    "            # Usar aria-label para identificar el botón \"Siguiente\"\n",
    "            boton_siguiente = WebDriverWait(c_driver, 10).until(\n",
    "                EC.element_to_be_clickable((By.XPATH, \"//button[@aria-label='Ir a la página siguiente']\"))\n",
    "            )\n",
    "            c_driver.execute_script(\"arguments[0].scrollIntoView();\", boton_siguiente)  # Asegurar que el botón es visible\n",
    "            boton_siguiente.click()\n",
    "            print(\"Pasando a la siguiente página...\")\n",
    "            time.sleep(3)\n",
    "        except TimeoutException:\n",
    "            print(\"No hay más páginas disponibles.\")\n",
    "            break\n",
    "        except NoSuchElementException:\n",
    "            print(\"No se encontró el botón de siguiente página.\")\n",
    "            break\n",
    "\n",
    "    return lista_datos"
   ]
  },
  {
   "cell_type": "code",
   "execution_count": 68,
   "metadata": {},
   "outputs": [
    {
     "name": "stdout",
     "output_type": "stream",
     "text": [
      "Iniciando el scraping de Tesla en AutoScout24...\n",
      "Pasando a la siguiente página...\n",
      "Pasando a la siguiente página...\n",
      "Pasando a la siguiente página...\n",
      "Pasando a la siguiente página...\n",
      "Pasando a la siguiente página...\n",
      "Pasando a la siguiente página...\n",
      "Pasando a la siguiente página...\n",
      "Pasando a la siguiente página...\n",
      "Pasando a la siguiente página...\n",
      "Pasando a la siguiente página...\n",
      "Pasando a la siguiente página...\n",
      "Pasando a la siguiente página...\n",
      "Pasando a la siguiente página...\n",
      "Pasando a la siguiente página...\n",
      "Pasando a la siguiente página...\n",
      "Pasando a la siguiente página...\n",
      "Pasando a la siguiente página...\n",
      "Pasando a la siguiente página...\n",
      "Pasando a la siguiente página...\n",
      "No hay más páginas disponibles.\n"
     ]
    }
   ],
   "source": [
    "### Ejecutar el scraping ###\n",
    "print(\"Iniciando el scraping de Tesla en AutoScout24...\")\n",
    "datos_tesla = extraer_datos_tesla()"
   ]
  },
  {
   "cell_type": "code",
   "execution_count": 69,
   "metadata": {},
   "outputs": [
    {
     "name": "stdout",
     "output_type": "stream",
     "text": [
      "Datos guardados en 'tesla_autoscout24.csv'.\n"
     ]
    }
   ],
   "source": [
    "# Guardar los datos en un archivo CSV\n",
    "df = pd.DataFrame(datos_tesla)\n",
    "df.to_csv(\"tesla_autoscout24.csv\", index=False, encoding=\"utf-8-sig\")\n",
    "print(\"Datos guardados en 'tesla_autoscout24.csv'.\")"
   ]
  },
  {
   "cell_type": "code",
   "execution_count": 70,
   "metadata": {},
   "outputs": [],
   "source": [
    "# Cerrar el navegador\n",
    "c_driver.quit()"
   ]
  }
 ],
 "metadata": {
  "kernelspec": {
   "display_name": "Python 3",
   "language": "python",
   "name": "python3"
  },
  "language_info": {
   "codemirror_mode": {
    "name": "ipython",
    "version": 3
   },
   "file_extension": ".py",
   "mimetype": "text/x-python",
   "name": "python",
   "nbconvert_exporter": "python",
   "pygments_lexer": "ipython3",
   "version": "3.12.2"
  }
 },
 "nbformat": 4,
 "nbformat_minor": 2
}
