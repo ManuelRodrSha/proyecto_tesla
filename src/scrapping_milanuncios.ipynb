{
 "cells": [
  {
   "cell_type": "code",
   "execution_count": 5,
   "metadata": {},
   "outputs": [],
   "source": [
    "from selenium import webdriver\n",
    "from selenium.webdriver.common.by import By\n",
    "from selenium.webdriver.common.keys import Keys\n",
    "from selenium.common.exceptions import NoSuchElementException\n",
    "from selenium.webdriver.common.action_chains import ActionChains\n",
    "import time\n",
    "import pandas as pd"
   ]
  },
  {
   "cell_type": "code",
   "execution_count": 6,
   "metadata": {},
   "outputs": [],
   "source": [
    "c_options = webdriver.ChromeOptions()\n",
    "c_options.add_argument(\"--start-maximized\")\n",
    "c_driver = webdriver.Chrome(options=c_options) \n",
    "time.sleep(2)\n",
    "c_driver.get(\"https://www.autocasion.com/coches-segunda-mano/tesla-ocasion?page=1\")\n",
    "time.sleep(2)\n",
    "#https://www.autocasion.com/coches-segunda-mano/tesla-ocasion?page=1"
   ]
  },
  {
   "cell_type": "code",
   "execution_count": 7,
   "metadata": {},
   "outputs": [],
   "source": [
    "pop_up_btt = c_driver.find_element(By.ID, 'didomi-notice-agree-button')\n",
    "pop_up_btt.click()"
   ]
  },
  {
   "cell_type": "code",
   "execution_count": 8,
   "metadata": {},
   "outputs": [
    {
     "ename": "AttributeError",
     "evalue": "'NoneType' object has no attribute 'text'",
     "output_type": "error",
     "traceback": [
      "\u001b[1;31m---------------------------------------------------------------------------\u001b[0m",
      "\u001b[1;31mAttributeError\u001b[0m                            Traceback (most recent call last)",
      "Cell \u001b[1;32mIn[8], line 14\u001b[0m\n\u001b[0;32m     12\u001b[0m tabs \u001b[38;5;241m=\u001b[39m c_driver\u001b[38;5;241m.\u001b[39mwindow_handles\n\u001b[0;32m     13\u001b[0m c_driver\u001b[38;5;241m.\u001b[39mswitch_to\u001b[38;5;241m.\u001b[39mwindow(tabs[\u001b[38;5;241m1\u001b[39m])\n\u001b[1;32m---> 14\u001b[0m diccionario[\u001b[38;5;124m'\u001b[39m\u001b[38;5;124mmodelo\u001b[39m\u001b[38;5;124m'\u001b[39m] \u001b[38;5;241m=\u001b[39m \u001b[43mc_driver\u001b[49m\u001b[38;5;241;43m.\u001b[39;49m\u001b[43mfind_element\u001b[49m\u001b[43m(\u001b[49m\u001b[43mBy\u001b[49m\u001b[38;5;241;43m.\u001b[39;49m\u001b[43mTAG_NAME\u001b[49m\u001b[43m,\u001b[49m\u001b[43m \u001b[49m\u001b[38;5;124;43m'\u001b[39;49m\u001b[38;5;124;43mh2\u001b[39;49m\u001b[38;5;124;43m'\u001b[39;49m\u001b[43m)\u001b[49m\u001b[38;5;241;43m.\u001b[39;49m\u001b[43mtext\u001b[49m\n\u001b[0;32m     15\u001b[0m datos_generales_vehiculo \u001b[38;5;241m=\u001b[39m c_driver\u001b[38;5;241m.\u001b[39mfind_element(By\u001b[38;5;241m.\u001b[39mCLASS_NAME, \u001b[38;5;124m'\u001b[39m\u001b[38;5;124mdatos-basicos-ficha\u001b[39m\u001b[38;5;124m'\u001b[39m)\n\u001b[0;32m     16\u001b[0m diccionario[\u001b[38;5;124m'\u001b[39m\u001b[38;5;124mkm\u001b[39m\u001b[38;5;124m'\u001b[39m] \u001b[38;5;241m=\u001b[39m datos_generales_vehiculo\u001b[38;5;241m.\u001b[39mfind_elements(By\u001b[38;5;241m.\u001b[39mTAG_NAME, \u001b[38;5;124m'\u001b[39m\u001b[38;5;124mli\u001b[39m\u001b[38;5;124m'\u001b[39m)[\u001b[38;5;241m1\u001b[39m]\u001b[38;5;241m.\u001b[39mtext\n",
      "\u001b[1;31mAttributeError\u001b[0m: 'NoneType' object has no attribute 'text'"
     ]
    }
   ],
   "source": [
    "paginas_totales = int(c_driver.find_element(By.CLASS_NAME, 'total_pages').text)\n",
    "for i in range(1, paginas_totales):\n",
    "    c_driver.get(f\"https://www.autocasion.com/coches-segunda-mano/tesla-ocasion?page={i}\")\n",
    "\n",
    "    time.sleep(3)\n",
    "    lista_diccionarios_tesla = []\n",
    "    articulos_coches = c_driver.find_elements(By.TAG_NAME, 'article')\n",
    "    for elemento in articulos_coches:\n",
    "        diccionario = {}\n",
    "        ActionChains(c_driver).key_down(Keys.CONTROL).click(elemento).key_up(Keys.CONTROL).perform()\n",
    "        time.sleep(2)\n",
    "        tabs = c_driver.window_handles\n",
    "        c_driver.switch_to.window(tabs[1])\n",
    "        diccionario['modelo'] = c_driver.find_element(By.TAG_NAME, 'h2').text\n",
    "        datos_generales_vehiculo = c_driver.find_element(By.CLASS_NAME, 'datos-basicos-ficha')\n",
    "        diccionario['km'] = datos_generales_vehiculo.find_elements(By.TAG_NAME, 'li')[1].text\n",
    "        if len(datos_generales_vehiculo.find_elements(By.TAG_NAME,'li')) >9:\n",
    "            diccionario['color'] = datos_generales_vehiculo.find_elements(By.TAG_NAME,'li')[9].text\n",
    "        else:\n",
    "            diccionario['color'] = datos_generales_vehiculo.find_elements(By.TAG_NAME,'li')[8].text\n",
    "        contenedor_precio = c_driver.find_element(By.CLASS_NAME, 'tabla-precio')\n",
    "        diccionario['precio'] = contenedor_precio.find_elements(By.TAG_NAME, 'span')[1].text\n",
    "        lista_diccionarios_tesla.append(diccionario)\n",
    "        time.sleep(2)\n",
    "        c_driver.close()\n",
    "        time.sleep(1)\n",
    "        c_driver.switch_to.window(tabs[0])\n",
    "\n",
    "\n"
   ]
  }
 ],
 "metadata": {
  "kernelspec": {
   "display_name": "proyecto_tesla",
   "language": "python",
   "name": "python3"
  },
  "language_info": {
   "codemirror_mode": {
    "name": "ipython",
    "version": 3
   },
   "file_extension": ".py",
   "mimetype": "text/x-python",
   "name": "python",
   "nbconvert_exporter": "python",
   "pygments_lexer": "ipython3",
   "version": "3.11.11"
  }
 },
 "nbformat": 4,
 "nbformat_minor": 2
}
