{
 "cells": [
  {
   "cell_type": "code",
   "execution_count": 1,
   "metadata": {},
   "outputs": [],
   "source": [
    "import pandas as pd\n"
   ]
  },
  {
   "cell_type": "code",
   "execution_count": 2,
   "metadata": {},
   "outputs": [],
   "source": [
    "dataframe_web_tesla = pd.read_csv('../dataframe/tesla.csv')"
   ]
  },
  {
   "cell_type": "code",
   "execution_count": 3,
   "metadata": {},
   "outputs": [
    {
     "data": {
      "text/html": [
       "<div>\n",
       "<style scoped>\n",
       "    .dataframe tbody tr th:only-of-type {\n",
       "        vertical-align: middle;\n",
       "    }\n",
       "\n",
       "    .dataframe tbody tr th {\n",
       "        vertical-align: top;\n",
       "    }\n",
       "\n",
       "    .dataframe thead th {\n",
       "        text-align: right;\n",
       "    }\n",
       "</style>\n",
       "<table border=\"1\" class=\"dataframe\">\n",
       "  <thead>\n",
       "    <tr style=\"text-align: right;\">\n",
       "      <th></th>\n",
       "      <th>modelo</th>\n",
       "      <th>km</th>\n",
       "      <th>precio</th>\n",
       "      <th>pintura</th>\n",
       "    </tr>\n",
       "  </thead>\n",
       "  <tbody>\n",
       "    <tr>\n",
       "      <th>0</th>\n",
       "      <td>Model S</td>\n",
       "      <td>2496 km</td>\n",
       "      <td>82.010 €</td>\n",
       "      <td>Blanco Perla Multicapas</td>\n",
       "    </tr>\n",
       "    <tr>\n",
       "      <th>1</th>\n",
       "      <td>Model S</td>\n",
       "      <td>6196 km</td>\n",
       "      <td>88.990 €</td>\n",
       "      <td>Azul Oscuro Metalizado</td>\n",
       "    </tr>\n",
       "    <tr>\n",
       "      <th>2</th>\n",
       "      <td>Model S</td>\n",
       "      <td>757 km</td>\n",
       "      <td>90.630 €</td>\n",
       "      <td>Azul Oscuro Metalizado</td>\n",
       "    </tr>\n",
       "    <tr>\n",
       "      <th>3</th>\n",
       "      <td>Model S</td>\n",
       "      <td>499 km</td>\n",
       "      <td>90.810 €</td>\n",
       "      <td>Negro Sólido</td>\n",
       "    </tr>\n",
       "    <tr>\n",
       "      <th>4</th>\n",
       "      <td>Model S</td>\n",
       "      <td>879 km</td>\n",
       "      <td>91.500 €</td>\n",
       "      <td>Pintura en color Gris Sigilo</td>\n",
       "    </tr>\n",
       "    <tr>\n",
       "      <th>...</th>\n",
       "      <td>...</td>\n",
       "      <td>...</td>\n",
       "      <td>...</td>\n",
       "      <td>...</td>\n",
       "    </tr>\n",
       "    <tr>\n",
       "      <th>283</th>\n",
       "      <td>Model Y</td>\n",
       "      <td>0</td>\n",
       "      <td>62.620 €</td>\n",
       "      <td>Pintura Rojo Cereza Medianoche</td>\n",
       "    </tr>\n",
       "    <tr>\n",
       "      <th>284</th>\n",
       "      <td>Model Y</td>\n",
       "      <td>0</td>\n",
       "      <td>65.370 €</td>\n",
       "      <td>Pintura Plateado Mercurio</td>\n",
       "    </tr>\n",
       "    <tr>\n",
       "      <th>285</th>\n",
       "      <td>Model Y</td>\n",
       "      <td>0</td>\n",
       "      <td>66.420 €</td>\n",
       "      <td>Pintura Rojo Cereza Medianoche</td>\n",
       "    </tr>\n",
       "    <tr>\n",
       "      <th>286</th>\n",
       "      <td>2024 Model Y</td>\n",
       "      <td>0</td>\n",
       "      <td>40.500 €</td>\n",
       "      <td>Pintura Plateado Mercurio</td>\n",
       "    </tr>\n",
       "    <tr>\n",
       "      <th>287</th>\n",
       "      <td>2023 Model Y</td>\n",
       "      <td>0</td>\n",
       "      <td>46.800 €</td>\n",
       "      <td>Color Negro Sólido</td>\n",
       "    </tr>\n",
       "  </tbody>\n",
       "</table>\n",
       "<p>288 rows × 4 columns</p>\n",
       "</div>"
      ],
      "text/plain": [
       "            modelo        km    precio                         pintura\n",
       "0         Model S    2496 km  82.010 €         Blanco Perla Multicapas\n",
       "1         Model S    6196 km  88.990 €          Azul Oscuro Metalizado\n",
       "2         Model S     757 km  90.630 €          Azul Oscuro Metalizado\n",
       "3         Model S     499 km  90.810 €                    Negro Sólido\n",
       "4         Model S     879 km  91.500 €    Pintura en color Gris Sigilo\n",
       "..             ...       ...       ...                             ...\n",
       "283       Model Y          0  62.620 €  Pintura Rojo Cereza Medianoche\n",
       "284       Model Y          0  65.370 €       Pintura Plateado Mercurio\n",
       "285       Model Y          0  66.420 €  Pintura Rojo Cereza Medianoche\n",
       "286  2024 Model Y          0  40.500 €       Pintura Plateado Mercurio\n",
       "287  2023 Model Y          0  46.800 €              Color Negro Sólido\n",
       "\n",
       "[288 rows x 4 columns]"
      ]
     },
     "execution_count": 3,
     "metadata": {},
     "output_type": "execute_result"
    }
   ],
   "source": [
    "dataframe_web_tesla"
   ]
  },
  {
   "cell_type": "code",
   "execution_count": 4,
   "metadata": {},
   "outputs": [
    {
     "name": "stdout",
     "output_type": "stream",
     "text": [
      "Model S \n",
      "2018 Model S \n",
      "2020 Model S \n",
      "2023 Model S \n",
      "Model 3 \n",
      "2019 Model 3 \n",
      "2022 Model 3 \n",
      "2021 Model 3 \n",
      "2023 Model 3 \n",
      "2024 Model 3 \n",
      "2020 Model 3 \n",
      "Model X \n",
      "2018 Model X \n",
      "2023 Model X \n",
      "Model Y \n",
      "2024 Model Y \n",
      "2023 Model Y \n"
     ]
    }
   ],
   "source": [
    "lista = dataframe_web_tesla['modelo'].unique().tolist()\n",
    "for elemento in lista:\n",
    "    print(elemento)"
   ]
  },
  {
   "cell_type": "code",
   "execution_count": 5,
   "metadata": {},
   "outputs": [],
   "source": [
    "def agregar_anio(modelo):\n",
    "    # Buscar si hay un año (número de 4 dígitos)\n",
    "    if not any(str(year) in modelo for year in range(2016, 2026)):\n",
    "        return f'2024 {modelo}'\n",
    "    return modelo"
   ]
  },
  {
   "cell_type": "code",
   "execution_count": 6,
   "metadata": {},
   "outputs": [
    {
     "name": "stdout",
     "output_type": "stream",
     "text": [
      "            modelo        km    precio                         pintura\n",
      "0    2024 Model S    2496 km  82.010 €         Blanco Perla Multicapas\n",
      "1    2024 Model S    6196 km  88.990 €          Azul Oscuro Metalizado\n",
      "2    2024 Model S     757 km  90.630 €          Azul Oscuro Metalizado\n",
      "3    2024 Model S     499 km  90.810 €                    Negro Sólido\n",
      "4    2024 Model S     879 km  91.500 €    Pintura en color Gris Sigilo\n",
      "..             ...       ...       ...                             ...\n",
      "283  2024 Model Y          0  62.620 €  Pintura Rojo Cereza Medianoche\n",
      "284  2024 Model Y          0  65.370 €       Pintura Plateado Mercurio\n",
      "285  2024 Model Y          0  66.420 €  Pintura Rojo Cereza Medianoche\n",
      "286  2024 Model Y          0  40.500 €       Pintura Plateado Mercurio\n",
      "287  2023 Model Y          0  46.800 €              Color Negro Sólido\n",
      "\n",
      "[288 rows x 4 columns]\n"
     ]
    }
   ],
   "source": [
    "dataframe_web_tesla['modelo'] = dataframe_web_tesla['modelo'].apply(agregar_anio)\n",
    "print(dataframe_web_tesla)"
   ]
  },
  {
   "cell_type": "code",
   "execution_count": 7,
   "metadata": {},
   "outputs": [
    {
     "name": "stdout",
     "output_type": "stream",
     "text": [
      "Blanco Perla Multicapas\n",
      "Azul Oscuro Metalizado\n",
      "Negro Sólido\n",
      "Pintura en color Gris Sigilo\n",
      "Color Plateado Lunar\n",
      "Metalizada plateada medianoche\n",
      "Metalizada plateada\n",
      "Metalizada negra obsidiana\n",
      "Pintura negra sólida\n",
      "Multicapas Roja\n",
      "Ultra Rojo\n",
      "Pintura Plateado Mercurio\n",
      "Color Blanco Perla Multicapas\n",
      "Color Negro Sólido\n",
      "Pintura en color Ultra Rojo\n",
      "Color Multicapas Rojo\n",
      "Plata Medianoche Metalizado\n",
      "Metalizada azul profundo\n",
      "Pintura Rojo Cereza Medianoche\n"
     ]
    }
   ],
   "source": [
    "lista_pintura = dataframe_web_tesla['pintura'].unique().tolist()\n",
    "for elemento in lista_pintura:\n",
    "    print(elemento)"
   ]
  },
  {
   "cell_type": "code",
   "execution_count": 8,
   "metadata": {},
   "outputs": [
    {
     "data": {
      "text/plain": [
       "modelo      object\n",
       "km         float64\n",
       "precio     float64\n",
       "pintura     object\n",
       "dtype: object"
      ]
     },
     "execution_count": 8,
     "metadata": {},
     "output_type": "execute_result"
    }
   ],
   "source": [
    "dataframe_web_tesla['precio'] = dataframe_web_tesla['precio'].str.replace('.', '')\n",
    "dataframe_web_tesla['km'] = dataframe_web_tesla['km'].str.replace('.', '')\n",
    "dataframe_web_tesla['precio'] = dataframe_web_tesla['precio'].str.replace('€', '').astype(float)\n",
    "dataframe_web_tesla['km'] = dataframe_web_tesla['km'].str.replace('km', '').astype(float)\n",
    "dataframe_web_tesla.dtypes"
   ]
  },
  {
   "cell_type": "code",
   "execution_count": 9,
   "metadata": {},
   "outputs": [],
   "source": [
    "def procesar_descripcion_tesla(row):\n",
    "    # Dividir la descripción en dos partes: año y modelo\n",
    "    partes = row.split(' ', 1)  # Divide en el primer espacio\n",
    "    year = partes[0]  # El año es la primera parte\n",
    "    modelo = partes[1] if len(partes) > 1 else None  # El resto es el modelo\n",
    "    return year, modelo"
   ]
  },
  {
   "cell_type": "code",
   "execution_count": 10,
   "metadata": {},
   "outputs": [
    {
     "data": {
      "text/html": [
       "<div>\n",
       "<style scoped>\n",
       "    .dataframe tbody tr th:only-of-type {\n",
       "        vertical-align: middle;\n",
       "    }\n",
       "\n",
       "    .dataframe tbody tr th {\n",
       "        vertical-align: top;\n",
       "    }\n",
       "\n",
       "    .dataframe thead th {\n",
       "        text-align: right;\n",
       "    }\n",
       "</style>\n",
       "<table border=\"1\" class=\"dataframe\">\n",
       "  <thead>\n",
       "    <tr style=\"text-align: right;\">\n",
       "      <th></th>\n",
       "      <th>modelo</th>\n",
       "      <th>km</th>\n",
       "      <th>precio</th>\n",
       "      <th>pintura</th>\n",
       "      <th>year</th>\n",
       "    </tr>\n",
       "  </thead>\n",
       "  <tbody>\n",
       "    <tr>\n",
       "      <th>0</th>\n",
       "      <td>Model S</td>\n",
       "      <td>2496.0</td>\n",
       "      <td>82010.0</td>\n",
       "      <td>Blanco Perla Multicapas</td>\n",
       "      <td>2024</td>\n",
       "    </tr>\n",
       "    <tr>\n",
       "      <th>1</th>\n",
       "      <td>Model S</td>\n",
       "      <td>6196.0</td>\n",
       "      <td>88990.0</td>\n",
       "      <td>Azul Oscuro Metalizado</td>\n",
       "      <td>2024</td>\n",
       "    </tr>\n",
       "  </tbody>\n",
       "</table>\n",
       "</div>"
      ],
      "text/plain": [
       "     modelo      km   precio                  pintura  year\n",
       "0  Model S   2496.0  82010.0  Blanco Perla Multicapas  2024\n",
       "1  Model S   6196.0  88990.0   Azul Oscuro Metalizado  2024"
      ]
     },
     "execution_count": 10,
     "metadata": {},
     "output_type": "execute_result"
    }
   ],
   "source": [
    "dataframe_web_tesla[['year', 'modelo']] = dataframe_web_tesla['modelo'].apply(lambda x: pd.Series(procesar_descripcion_tesla(x)))\n",
    "dataframe_web_tesla.head(2)"
   ]
  },
  {
   "cell_type": "code",
   "execution_count": 11,
   "metadata": {},
   "outputs": [],
   "source": [
    "def procesar_columna_color(df, columna):\n",
    "    # Lista de colores a buscar\n",
    "    colores = ['rojo', 'azul', 'blanco', 'gris', 'negro', 'marron', 'marrón']\n",
    "    \n",
    "    # Función para procesar cada elemento de la columna\n",
    "def transformar_color(valor):\n",
    "    colores = ['rojo', 'azul', 'blanco', 'gris', 'negro', 'marron', 'marrón']\n",
    "    valor_lower = valor.lower()  # Convertir a minúsculas para comparar\n",
    "    contiene_color = any(color in valor_lower for color in colores)\n",
    "    es_metalizado = 'metalizado' in valor_lower\n",
    "    \n",
    "    if contiene_color:\n",
    "        # Si contiene un color, devolver solo el color\n",
    "        for color in colores:\n",
    "            if color in valor_lower:\n",
    "                return color  # Devolver el color encontrado\n",
    "    elif es_metalizado:\n",
    "        # Si solo contiene \"metalizado\", cambiar a \"gris\"\n",
    "        return 'gris'\n",
    "    else:\n",
    "        # Si no cumple ninguna condición, no cambiar\n",
    "        return valor"
   ]
  },
  {
   "cell_type": "code",
   "execution_count": 12,
   "metadata": {},
   "outputs": [],
   "source": [
    "dataframe_web_tesla['pintura']= dataframe_web_tesla['pintura'].apply(transformar_color)"
   ]
  },
  {
   "cell_type": "code",
   "execution_count": 13,
   "metadata": {},
   "outputs": [],
   "source": [
    "dataframe_web_tesla['pintura'] = dataframe_web_tesla['pintura'].apply(lambda x: \"blanco\" if \"Color Plateado Lunar\" in x else x)\n",
    "dataframe_web_tesla['pintura'] = dataframe_web_tesla['pintura'].apply(lambda x: \"gris\" if \"Metalizada plateada medianoche\" in x else x)\n",
    "dataframe_web_tesla['pintura'] = dataframe_web_tesla['pintura'].apply(lambda x: \"gris\" if \"Metalizada plateada\" in x else x)\n",
    "dataframe_web_tesla['pintura'] = dataframe_web_tesla['pintura'].apply(lambda x: \"negro\" if \"Metalizada negra obsidiana\" in x else x)\n",
    "dataframe_web_tesla['pintura'] = dataframe_web_tesla['pintura'].apply(lambda x: \"negro\" if \"Pintura negra sólida\" in x else x)\n",
    "dataframe_web_tesla['pintura'] = dataframe_web_tesla['pintura'].apply(lambda x: \"gris\" if \"Pintura Plateado Mercurio\" in x else x)"
   ]
  },
  {
   "cell_type": "code",
   "execution_count": 14,
   "metadata": {},
   "outputs": [
    {
     "data": {
      "text/html": [
       "<div>\n",
       "<style scoped>\n",
       "    .dataframe tbody tr th:only-of-type {\n",
       "        vertical-align: middle;\n",
       "    }\n",
       "\n",
       "    .dataframe tbody tr th {\n",
       "        vertical-align: top;\n",
       "    }\n",
       "\n",
       "    .dataframe thead th {\n",
       "        text-align: right;\n",
       "    }\n",
       "</style>\n",
       "<table border=\"1\" class=\"dataframe\">\n",
       "  <thead>\n",
       "    <tr style=\"text-align: right;\">\n",
       "      <th></th>\n",
       "      <th>modelo</th>\n",
       "      <th>km</th>\n",
       "      <th>precio</th>\n",
       "      <th>year</th>\n",
       "      <th>color</th>\n",
       "    </tr>\n",
       "  </thead>\n",
       "  <tbody>\n",
       "    <tr>\n",
       "      <th>0</th>\n",
       "      <td>Model S</td>\n",
       "      <td>2496.0</td>\n",
       "      <td>82010.0</td>\n",
       "      <td>2024</td>\n",
       "      <td>blanco</td>\n",
       "    </tr>\n",
       "    <tr>\n",
       "      <th>1</th>\n",
       "      <td>Model S</td>\n",
       "      <td>6196.0</td>\n",
       "      <td>88990.0</td>\n",
       "      <td>2024</td>\n",
       "      <td>azul</td>\n",
       "    </tr>\n",
       "  </tbody>\n",
       "</table>\n",
       "</div>"
      ],
      "text/plain": [
       "     modelo      km   precio  year   color\n",
       "0  Model S   2496.0  82010.0  2024  blanco\n",
       "1  Model S   6196.0  88990.0  2024    azul"
      ]
     },
     "execution_count": 14,
     "metadata": {},
     "output_type": "execute_result"
    }
   ],
   "source": [
    "dataframe_web_tesla['color']=dataframe_web_tesla['pintura'] \n",
    "dataframe_web_tesla = dataframe_web_tesla.drop(columns='pintura')\n",
    "dataframe_web_tesla.head(2)"
   ]
  },
  {
   "cell_type": "code",
   "execution_count": 15,
   "metadata": {},
   "outputs": [],
   "source": [
    "dataframe_web_utocasion = pd.read_csv('../dataframe/utocasion.csv')"
   ]
  },
  {
   "cell_type": "code",
   "execution_count": 16,
   "metadata": {},
   "outputs": [
    {
     "data": {
      "text/html": [
       "<div>\n",
       "<style scoped>\n",
       "    .dataframe tbody tr th:only-of-type {\n",
       "        vertical-align: middle;\n",
       "    }\n",
       "\n",
       "    .dataframe tbody tr th {\n",
       "        vertical-align: top;\n",
       "    }\n",
       "\n",
       "    .dataframe thead th {\n",
       "        text-align: right;\n",
       "    }\n",
       "</style>\n",
       "<table border=\"1\" class=\"dataframe\">\n",
       "  <thead>\n",
       "    <tr style=\"text-align: right;\">\n",
       "      <th></th>\n",
       "      <th>modelo</th>\n",
       "      <th>km</th>\n",
       "      <th>color</th>\n",
       "      <th>precio</th>\n",
       "    </tr>\n",
       "  </thead>\n",
       "  <tbody>\n",
       "    <tr>\n",
       "      <th>0</th>\n",
       "      <td>Detalles TESLA Model 3 (2022)</td>\n",
       "      <td>63.000 km</td>\n",
       "      <td>Azul / Metalizado</td>\n",
       "      <td>25.990 €</td>\n",
       "    </tr>\n",
       "    <tr>\n",
       "      <th>1</th>\n",
       "      <td>Detalles TESLA Model S (2020)</td>\n",
       "      <td>94.000 km</td>\n",
       "      <td>Negro</td>\n",
       "      <td>51.990 €</td>\n",
       "    </tr>\n",
       "    <tr>\n",
       "      <th>2</th>\n",
       "      <td>Detalles TESLA Model 3 (2020)</td>\n",
       "      <td>138.000 km</td>\n",
       "      <td>Gris</td>\n",
       "      <td>26.990 €</td>\n",
       "    </tr>\n",
       "    <tr>\n",
       "      <th>3</th>\n",
       "      <td>Detalles TESLA Model X (2019)</td>\n",
       "      <td>170.000 km</td>\n",
       "      <td>Blanco</td>\n",
       "      <td>44.800 €</td>\n",
       "    </tr>\n",
       "    <tr>\n",
       "      <th>4</th>\n",
       "      <td>Detalles TESLA Model 3 (2019)</td>\n",
       "      <td>61.046 km</td>\n",
       "      <td>ROJO</td>\n",
       "      <td>29.900 €</td>\n",
       "    </tr>\n",
       "  </tbody>\n",
       "</table>\n",
       "</div>"
      ],
      "text/plain": [
       "                          modelo          km              color    precio\n",
       "0  Detalles TESLA Model 3 (2022)   63.000 km  Azul / Metalizado  25.990 €\n",
       "1  Detalles TESLA Model S (2020)   94.000 km              Negro  51.990 €\n",
       "2  Detalles TESLA Model 3 (2020)  138.000 km               Gris  26.990 €\n",
       "3  Detalles TESLA Model X (2019)  170.000 km             Blanco  44.800 €\n",
       "4  Detalles TESLA Model 3 (2019)   61.046 km               ROJO  29.900 €"
      ]
     },
     "execution_count": 16,
     "metadata": {},
     "output_type": "execute_result"
    }
   ],
   "source": [
    "dataframe_web_utocasion.head(5)"
   ]
  },
  {
   "cell_type": "code",
   "execution_count": 17,
   "metadata": {},
   "outputs": [
    {
     "name": "stdout",
     "output_type": "stream",
     "text": [
      "Azul / Metalizado\n",
      "Negro\n",
      "Gris\n",
      "Blanco\n",
      "ROJO\n",
      "Negro (sólido) / Metalizado\n",
      "Granate\n",
      "BLANCO PERLADO\n",
      "Azul\n",
      "Blanco perla multicapa / Metalizado\n",
      "gris metalizado / Metalizado\n",
      "Negro / Metalizado\n",
      "azul metalizado / Metalizado\n",
      "Rojo\n",
      "Blanco / Metalizado\n",
      "MIDNIGHT SILVER METALLIC PAINT\n",
      "Gris / Metalizado\n",
      "gris oscuro\n",
      "Pearl White Multi-Coat\n",
      "Plata Medianoche (metalizado) / Metalizado\n",
      "ANTRACITA / Metalizado\n",
      "Negro Solido / Metalizado\n",
      "Pintura negro metalizado\n",
      "-\n",
      "blanco\n",
      "PERLA / Metalizado\n",
      "rojo\n",
      "Marrón\n",
      "gris\n",
      "Marrón / Metalizado\n",
      "negro\n",
      "Rojo / Metalizado\n",
      "BLANCO\n",
      "blanco / Metalizado\n",
      "Plata / Metalizado\n",
      "azul\n",
      "TESLA Model 3 Gran Autonomia AWD 4p. Dual Motor / Metalizado\n",
      "Plata\n",
      "GRIS\n",
      "Gris Plata / Metalizado\n",
      "Otros\n",
      "Tesla Model 3, edición 2023 / Metalizado\n"
     ]
    }
   ],
   "source": [
    "lista_pintura_autocasion = dataframe_web_utocasion['color'].unique().tolist()\n",
    "for elemento in lista_pintura_autocasion:\n",
    "    print(elemento)"
   ]
  },
  {
   "cell_type": "code",
   "execution_count": 18,
   "metadata": {},
   "outputs": [],
   "source": [
    "dataframe_web_utocasion['color'] = dataframe_web_utocasion['color'].apply(transformar_color)"
   ]
  },
  {
   "cell_type": "code",
   "execution_count": 19,
   "metadata": {},
   "outputs": [],
   "source": [
    "\n",
    "dataframe_web_utocasion['color'] = dataframe_web_utocasion['color'].apply(lambda x: \"rojo\" if \"Granate\" in x else x)\n",
    "dataframe_web_utocasion['color'] = dataframe_web_utocasion['color'].apply(lambda x: \"gris\" if \"MIDNIGHT SILVER METALLIC PAINT\" in x else x)\n",
    "dataframe_web_utocasion['color'] = dataframe_web_utocasion['color'].apply(lambda x: \"blanco\" if \"Pearl White Multi-Coat\" in x else x)\n",
    "dataframe_web_utocasion['color'] = dataframe_web_utocasion['color'].apply(lambda x: \"blanco\" if \"-\" in x else x)\n",
    "dataframe_web_utocasion['color'] = dataframe_web_utocasion['color'].apply(lambda x: \"marron\" if \"marrón\" in x else x)\n",
    "dataframe_web_utocasion['color'] = dataframe_web_utocasion['color'].apply(lambda x: \"gris\" if \"Plata\" in x else x)\n",
    "dataframe_web_utocasion['color'] = dataframe_web_utocasion['color'].apply(lambda x: \"blanco\" if \"Otros\" in x else x)"
   ]
  },
  {
   "cell_type": "code",
   "execution_count": 20,
   "metadata": {},
   "outputs": [
    {
     "data": {
      "text/plain": [
       "modelo     object\n",
       "km        float64\n",
       "color      object\n",
       "precio    float64\n",
       "dtype: object"
      ]
     },
     "execution_count": 20,
     "metadata": {},
     "output_type": "execute_result"
    }
   ],
   "source": [
    "dataframe_web_utocasion['precio'] = dataframe_web_utocasion['precio'].str.replace('.', '')\n",
    "dataframe_web_utocasion['km'] = dataframe_web_utocasion['km'].str.replace('.', '')\n",
    "dataframe_web_utocasion['precio'] = dataframe_web_utocasion['precio'].str.replace('€', '').astype(float)\n",
    "dataframe_web_utocasion['km'] = dataframe_web_utocasion['km'].str.replace('km', '').astype(float)\n",
    "dataframe_web_utocasion.dtypes"
   ]
  },
  {
   "cell_type": "code",
   "execution_count": 21,
   "metadata": {},
   "outputs": [],
   "source": [
    "def procesar_descripcion_autocasion(row):\n",
    "    # Eliminar la parte 'Detalles TESLA'\n",
    "    sin_detalles = row.replace('Detalles TESLA ', '')\n",
    "\n",
    "    # Extraer el año entre paréntesis y crear una nueva columna\n",
    "    year = sin_detalles.split('(')[-1].strip(')') if '(' in sin_detalles else None\n",
    "\n",
    "    # Dejar solo el modelo sin el año\n",
    "    modelo = sin_detalles.split('(')[0].strip()\n",
    "\n",
    "    return modelo, year\n",
    "\n"
   ]
  },
  {
   "cell_type": "code",
   "execution_count": 22,
   "metadata": {},
   "outputs": [],
   "source": [
    "dataframe_web_utocasion[['modelo', 'year']] = dataframe_web_utocasion['modelo'].apply(lambda x: pd.Series(procesar_descripcion_autocasion(x)))\n",
    "#dataframe_web_utocasion.head(2)\n"
   ]
  },
  {
   "cell_type": "code",
   "execution_count": 23,
   "metadata": {},
   "outputs": [
    {
     "data": {
      "text/html": [
       "<div>\n",
       "<style scoped>\n",
       "    .dataframe tbody tr th:only-of-type {\n",
       "        vertical-align: middle;\n",
       "    }\n",
       "\n",
       "    .dataframe tbody tr th {\n",
       "        vertical-align: top;\n",
       "    }\n",
       "\n",
       "    .dataframe thead th {\n",
       "        text-align: right;\n",
       "    }\n",
       "</style>\n",
       "<table border=\"1\" class=\"dataframe\">\n",
       "  <thead>\n",
       "    <tr style=\"text-align: right;\">\n",
       "      <th></th>\n",
       "      <th>modelo</th>\n",
       "      <th>km</th>\n",
       "      <th>color</th>\n",
       "      <th>precio</th>\n",
       "      <th>year</th>\n",
       "    </tr>\n",
       "  </thead>\n",
       "  <tbody>\n",
       "    <tr>\n",
       "      <th>0</th>\n",
       "      <td>Model 3</td>\n",
       "      <td>63000.0</td>\n",
       "      <td>azul</td>\n",
       "      <td>25990.0</td>\n",
       "      <td>2022</td>\n",
       "    </tr>\n",
       "    <tr>\n",
       "      <th>1</th>\n",
       "      <td>Model S</td>\n",
       "      <td>94000.0</td>\n",
       "      <td>negro</td>\n",
       "      <td>51990.0</td>\n",
       "      <td>2020</td>\n",
       "    </tr>\n",
       "  </tbody>\n",
       "</table>\n",
       "</div>"
      ],
      "text/plain": [
       "    modelo       km  color   precio  year\n",
       "0  Model 3  63000.0   azul  25990.0  2022\n",
       "1  Model S  94000.0  negro  51990.0  2020"
      ]
     },
     "execution_count": 23,
     "metadata": {},
     "output_type": "execute_result"
    }
   ],
   "source": [
    "dataframe_web_utocasion.head(2)"
   ]
  },
  {
   "cell_type": "code",
   "execution_count": 24,
   "metadata": {},
   "outputs": [],
   "source": [
    "df_unido = pd.concat([dataframe_web_utocasion, dataframe_web_tesla], ignore_index=True)\n",
    "df_unido.to_csv(\"../dataframe/unido_final.csv\")"
   ]
  }
 ],
 "metadata": {
  "kernelspec": {
   "display_name": "Python 3",
   "language": "python",
   "name": "python3"
  },
  "language_info": {
   "codemirror_mode": {
    "name": "ipython",
    "version": 3
   },
   "file_extension": ".py",
   "mimetype": "text/x-python",
   "name": "python",
   "nbconvert_exporter": "python",
   "pygments_lexer": "ipython3",
   "version": "3.12.7"
  }
 },
 "nbformat": 4,
 "nbformat_minor": 2
}
