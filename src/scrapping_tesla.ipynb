{
 "cells": [
  {
   "cell_type": "code",
   "execution_count": 79,
   "metadata": {},
   "outputs": [],
   "source": [
    "from selenium import webdriver\n",
    "from selenium.webdriver.common.by import By\n",
    "from selenium.webdriver.common.keys import Keys\n",
    "from selenium.common.exceptions import NoSuchElementException\n",
    "import time\n",
    "import pandas as pd\n",
    "\n",
    "###Chrome ####\n",
    "c_options = webdriver.ChromeOptions()\n",
    "c_options.add_argument(\"--start-maximized\")\n",
    "c_driver = webdriver.Chrome(options=c_options) "
   ]
  },
  {
   "cell_type": "code",
   "execution_count": 80,
   "metadata": {},
   "outputs": [],
   "source": [
    "c_driver.get(\"https://www.tesla.com/es_ES/inventory/new/my?arrangeby=plh&zip=28008&range=0\")\n",
    "time.sleep(2)"
   ]
  },
  {
   "cell_type": "code",
   "execution_count": null,
   "metadata": {},
   "outputs": [],
   "source": [
    "#botton_cookies = //*[@id=\"tsla-accept-cookie\"]\n",
    "botton_cookies = c_driver.find_element(By.XPATH, '/html/body/div[2]/div[2]/button[1]')\n",
    "botton_cookies.click()\n",
    "time.sleep(2)\n",
    "\n"
   ]
  },
  {
   "cell_type": "code",
   "execution_count": 82,
   "metadata": {},
   "outputs": [],
   "source": [
    "def obtener_articulos_pagina():\n",
    "    articulos = []\n",
    "    try:\n",
    "\n",
    "        articulos = c_driver.find_elements(By.TAG_NAME, 'article')\n",
    "        #print(articulos)\n",
    "        \n",
    "        return articulos\n",
    "    except NoSuchElementException:\n",
    "        print(\"No se encontraron elementos con la clase especificada\")"
   ]
  },
  {
   "cell_type": "code",
   "execution_count": null,
   "metadata": {},
   "outputs": [],
   "source": [
    "def generar_diccionario_articulo(articulo, estado_coche):\n",
    "    diccionario_articulo = {}\n",
    "    datos_generales = articulo.find_element(By.CLASS_NAME, 'result-basic-info')\n",
    "    elementos_span_result_basic_info = datos_generales.find_elements(By.TAG_NAME, 'span')\n",
    "\n",
    "    \n",
    "    diccionario_articulo['modelo'] = elementos_span_result_basic_info[0].text\n",
    "    try:\n",
    "        diccionario_articulo['km'] = elementos_span_result_basic_info[1].text.split(\"con\")[1]\n",
    "    except IndexError:\n",
    "        diccionario_articulo['km'] = 0\n",
    "\n",
    "    try:\n",
    "        precio = articulo.find_element(By.CLASS_NAME, 'result-pricing')   \n",
    "        \n",
    "        valor_precio = precio.find_element(By.TAG_NAME, 'span')\n",
    "        diccionario_articulo['precio'] = valor_precio.text  \n",
    "    except NoSuchElementException:\n",
    "        diccionario_articulo['precio'] = 0\n",
    "    try:\n",
    "        div_pintura = articulo.find_elements(By.CLASS_NAME, 'tds-list-item')\n",
    "        \n",
    "        diccionario_articulo['pintura'] = div_pintura[2].text\n",
    "    except NoSuchElementException:\n",
    "        pintura = \"No hay pintura\"\n",
    "        diccionario_articulo['pintura'] = pintura\n",
    "    diccionario_articulo['estado'] = estado_coche\n",
    "    \n",
    "    #print(diccionario_articulo)\n",
    "def almacenar_en_lista(lista_diccionarios_datos_articulos, articulos, estado_coche):\n",
    "    for articulo in articulos:\n",
    "        diccionario = generar_diccionario_articulo(articulo, estado_coche)\n",
    "        lista_diccionarios_datos_articulos.append(diccionario)\n",
    "    \n",
    "    "
   ]
  },
  {
   "cell_type": "code",
   "execution_count": null,
   "metadata": {},
   "outputs": [
    {
     "data": {
      "text/plain": [
       "'articulos = obtener_articulos_pagina()\\nalmacenar_en_lista(lista_diccionarios_datos_articulos, articulos)'"
      ]
     },
     "execution_count": 97,
     "metadata": {},
     "output_type": "execute_result"
    }
   ],
   "source": [
    "lista_diccionarios_datos_articulos = []\n",
    "botones_filtros = []\n",
    "div_botones_modelos = c_driver.find_element(By.CLASS_NAME, 'tds-form-input-group')\n",
    "elementos_botones_modelos = div_botones_modelos[0].find_elements(By.TAG_NAME, 'input')\n",
    "div_tipo_inventario = c_driver.find_element(By.CLASS_NAME, 'tds-form-item')\n",
    "elementos_botones_inventario = div_tipo_inventario[0].find_elements(By.TAG_NAME, 'input')\n",
    "for modelo in elementos_botones_modelos:\n",
    "    for inventario in elementos_botones_inventario:\n",
    "        valor_inventario = inventario.get_attribute('value')\n",
    "        modelo.click()\n",
    "        inventario.click()\n",
    "        #hacemos scroll hasta abajo para cargar todos los elementos\n",
    "        c_driver.execute_script(\"window.scrollTo(0, document.body.scrollHeight);\")\n",
    "        time.sleep(5)\n",
    "        articulos = obtener_articulos_pagina()\n",
    "        almacenar_en_lista(lista_diccionarios_datos_articulos, articulos, valor_inventario)\n",
    "\n",
    "        \n",
    "\n",
    "\n",
    "\"\"\"articulos = obtener_articulos_pagina()\n",
    "almacenar_en_lista(lista_diccionarios_datos_articulos, articulos)\"\"\"\n",
    "\n",
    "\n",
    "    \n"
   ]
  },
  {
   "cell_type": "code",
   "execution_count": null,
   "metadata": {},
   "outputs": [],
   "source": []
  }
 ],
 "metadata": {
  "kernelspec": {
   "display_name": "base",
   "language": "python",
   "name": "python3"
  },
  "language_info": {
   "codemirror_mode": {
    "name": "ipython",
    "version": 3
   },
   "file_extension": ".py",
   "mimetype": "text/x-python",
   "name": "python",
   "nbconvert_exporter": "python",
   "pygments_lexer": "ipython3",
   "version": "3.12.7"
  }
 },
 "nbformat": 4,
 "nbformat_minor": 2
}
