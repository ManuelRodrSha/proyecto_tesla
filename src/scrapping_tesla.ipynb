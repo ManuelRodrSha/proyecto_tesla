{
 "cells": [
  {
   "cell_type": "code",
   "execution_count": 2,
   "metadata": {},
   "outputs": [
    {
     "name": "stdout",
     "output_type": "stream",
     "text": [
      "Looking in indexes: https://pypi.org/simple, https://pypi.ngc.nvidia.com\n",
      "Collecting selenium\n",
      "  Downloading selenium-4.27.1-py3-none-any.whl.metadata (7.1 kB)\n",
      "Collecting urllib3<3,>=1.26 (from urllib3[socks]<3,>=1.26->selenium)\n",
      "  Downloading urllib3-2.2.3-py3-none-any.whl.metadata (6.5 kB)\n",
      "Collecting trio~=0.17 (from selenium)\n",
      "  Downloading trio-0.27.0-py3-none-any.whl.metadata (8.6 kB)\n",
      "Collecting trio-websocket~=0.9 (from selenium)\n",
      "  Downloading trio_websocket-0.11.1-py3-none-any.whl.metadata (4.7 kB)\n",
      "Collecting certifi>=2021.10.8 (from selenium)\n",
      "  Downloading certifi-2024.12.14-py3-none-any.whl.metadata (2.3 kB)\n",
      "Requirement already satisfied: typing_extensions~=4.9 in c:\\users\\mirosh\\miniconda3\\envs\\proyecto_tesla\\lib\\site-packages (from selenium) (4.12.2)\n",
      "Collecting websocket-client~=1.8 (from selenium)\n",
      "  Downloading websocket_client-1.8.0-py3-none-any.whl.metadata (8.0 kB)\n",
      "Collecting attrs>=23.2.0 (from trio~=0.17->selenium)\n",
      "  Downloading attrs-24.3.0-py3-none-any.whl.metadata (11 kB)\n",
      "Collecting sortedcontainers (from trio~=0.17->selenium)\n",
      "  Downloading sortedcontainers-2.4.0-py2.py3-none-any.whl.metadata (10 kB)\n",
      "Collecting idna (from trio~=0.17->selenium)\n",
      "  Downloading idna-3.10-py3-none-any.whl.metadata (10 kB)\n",
      "Collecting outcome (from trio~=0.17->selenium)\n",
      "  Downloading outcome-1.3.0.post0-py2.py3-none-any.whl.metadata (2.6 kB)\n",
      "Collecting sniffio>=1.3.0 (from trio~=0.17->selenium)\n",
      "  Downloading sniffio-1.3.1-py3-none-any.whl.metadata (3.9 kB)\n",
      "Collecting cffi>=1.14 (from trio~=0.17->selenium)\n",
      "  Downloading cffi-1.17.1-cp311-cp311-win_amd64.whl.metadata (1.6 kB)\n",
      "Collecting wsproto>=0.14 (from trio-websocket~=0.9->selenium)\n",
      "  Downloading wsproto-1.2.0-py3-none-any.whl.metadata (5.6 kB)\n",
      "Collecting pysocks!=1.5.7,<2.0,>=1.5.6 (from urllib3[socks]<3,>=1.26->selenium)\n",
      "  Downloading PySocks-1.7.1-py3-none-any.whl.metadata (13 kB)\n",
      "Collecting pycparser (from cffi>=1.14->trio~=0.17->selenium)\n",
      "  Downloading pycparser-2.22-py3-none-any.whl.metadata (943 bytes)\n",
      "Collecting h11<1,>=0.9.0 (from wsproto>=0.14->trio-websocket~=0.9->selenium)\n",
      "  Downloading h11-0.14.0-py3-none-any.whl.metadata (8.2 kB)\n",
      "Downloading selenium-4.27.1-py3-none-any.whl (9.7 MB)\n",
      "   ---------------------------------------- 0.0/9.7 MB ? eta -:--:--\n",
      "   ------- -------------------------------- 1.8/9.7 MB 11.2 MB/s eta 0:00:01\n",
      "   -------------- ------------------------- 3.4/9.7 MB 9.2 MB/s eta 0:00:01\n",
      "   ---------------------- ----------------- 5.5/9.7 MB 9.6 MB/s eta 0:00:01\n",
      "   ------------------------------ --------- 7.3/9.7 MB 9.3 MB/s eta 0:00:01\n",
      "   ------------------------------------- -- 9.2/9.7 MB 9.5 MB/s eta 0:00:01\n",
      "   ---------------------------------------- 9.7/9.7 MB 9.2 MB/s eta 0:00:00\n",
      "Downloading certifi-2024.12.14-py3-none-any.whl (164 kB)\n",
      "Downloading trio-0.27.0-py3-none-any.whl (481 kB)\n",
      "Downloading trio_websocket-0.11.1-py3-none-any.whl (17 kB)\n",
      "Downloading urllib3-2.2.3-py3-none-any.whl (126 kB)\n",
      "Downloading websocket_client-1.8.0-py3-none-any.whl (58 kB)\n",
      "Downloading attrs-24.3.0-py3-none-any.whl (63 kB)\n",
      "Downloading cffi-1.17.1-cp311-cp311-win_amd64.whl (181 kB)\n",
      "Downloading PySocks-1.7.1-py3-none-any.whl (16 kB)\n",
      "Downloading sniffio-1.3.1-py3-none-any.whl (10 kB)\n",
      "Downloading wsproto-1.2.0-py3-none-any.whl (24 kB)\n",
      "Downloading idna-3.10-py3-none-any.whl (70 kB)\n",
      "Downloading outcome-1.3.0.post0-py2.py3-none-any.whl (10 kB)\n",
      "Downloading sortedcontainers-2.4.0-py2.py3-none-any.whl (29 kB)\n",
      "Downloading h11-0.14.0-py3-none-any.whl (58 kB)\n",
      "Downloading pycparser-2.22-py3-none-any.whl (117 kB)\n",
      "Installing collected packages: sortedcontainers, websocket-client, urllib3, sniffio, pysocks, pycparser, idna, h11, certifi, attrs, wsproto, outcome, cffi, trio, trio-websocket, selenium\n",
      "Successfully installed attrs-24.3.0 certifi-2024.12.14 cffi-1.17.1 h11-0.14.0 idna-3.10 outcome-1.3.0.post0 pycparser-2.22 pysocks-1.7.1 selenium-4.27.1 sniffio-1.3.1 sortedcontainers-2.4.0 trio-0.27.0 trio-websocket-0.11.1 urllib3-2.2.3 websocket-client-1.8.0 wsproto-1.2.0\n",
      "Note: you may need to restart the kernel to use updated packages.\n"
     ]
    },
    {
     "name": "stderr",
     "output_type": "stream",
     "text": [
      "  WARNING: The script wsdump.exe is installed in 'c:\\Users\\Mirosh\\miniconda3\\envs\\proyecto_tesla\\Scripts' which is not on PATH.\n",
      "  Consider adding this directory to PATH or, if you prefer to suppress this warning, use --no-warn-script-location.\n"
     ]
    }
   ],
   "source": [
    "pip install selenium"
   ]
  },
  {
   "cell_type": "code",
   "execution_count": 3,
   "metadata": {},
   "outputs": [
    {
     "name": "stdout",
     "output_type": "stream",
     "text": [
      "Looking in indexes: https://pypi.org/simple, https://pypi.ngc.nvidia.com\n",
      "Collecting pandas\n",
      "  Downloading pandas-2.2.3-cp311-cp311-win_amd64.whl.metadata (19 kB)\n",
      "Collecting numpy>=1.23.2 (from pandas)\n",
      "  Downloading numpy-2.2.0-cp311-cp311-win_amd64.whl.metadata (60 kB)\n",
      "Requirement already satisfied: python-dateutil>=2.8.2 in c:\\users\\mirosh\\miniconda3\\envs\\proyecto_tesla\\lib\\site-packages (from pandas) (2.9.0.post0)\n",
      "Collecting pytz>=2020.1 (from pandas)\n",
      "  Downloading pytz-2024.2-py2.py3-none-any.whl.metadata (22 kB)\n",
      "Collecting tzdata>=2022.7 (from pandas)\n",
      "  Downloading tzdata-2024.2-py2.py3-none-any.whl.metadata (1.4 kB)\n",
      "Requirement already satisfied: six>=1.5 in c:\\users\\mirosh\\miniconda3\\envs\\proyecto_tesla\\lib\\site-packages (from python-dateutil>=2.8.2->pandas) (1.17.0)\n",
      "Downloading pandas-2.2.3-cp311-cp311-win_amd64.whl (11.6 MB)\n",
      "   ---------------------------------------- 0.0/11.6 MB ? eta -:--:--\n",
      "   ------- -------------------------------- 2.1/11.6 MB 11.8 MB/s eta 0:00:01\n",
      "   -------------- ------------------------- 4.2/11.6 MB 11.0 MB/s eta 0:00:01\n",
      "   --------------------- ------------------ 6.3/11.6 MB 10.7 MB/s eta 0:00:01\n",
      "   ----------------------------- ---------- 8.7/11.6 MB 10.7 MB/s eta 0:00:01\n",
      "   ------------------------------------- -- 10.7/11.6 MB 10.5 MB/s eta 0:00:01\n",
      "   ---------------------------------------- 11.6/11.6 MB 10.5 MB/s eta 0:00:00\n",
      "Downloading numpy-2.2.0-cp311-cp311-win_amd64.whl (12.9 MB)\n",
      "   ---------------------------------------- 0.0/12.9 MB ? eta -:--:--\n",
      "   ------ --------------------------------- 2.1/12.9 MB 11.8 MB/s eta 0:00:01\n",
      "   ------------ --------------------------- 4.2/12.9 MB 11.0 MB/s eta 0:00:01\n",
      "   ----------------- ---------------------- 5.8/12.9 MB 9.8 MB/s eta 0:00:01\n",
      "   ----------------------- ---------------- 7.6/12.9 MB 9.6 MB/s eta 0:00:01\n",
      "   ----------------------------- ---------- 9.4/12.9 MB 9.3 MB/s eta 0:00:01\n",
      "   ---------------------------------- ----- 11.0/12.9 MB 9.1 MB/s eta 0:00:01\n",
      "   ---------------------------------------- 12.9/12.9 MB 9.0 MB/s eta 0:00:00\n",
      "Downloading pytz-2024.2-py2.py3-none-any.whl (508 kB)\n",
      "Downloading tzdata-2024.2-py2.py3-none-any.whl (346 kB)\n",
      "Installing collected packages: pytz, tzdata, numpy, pandas\n",
      "Successfully installed numpy-2.2.0 pandas-2.2.3 pytz-2024.2 tzdata-2024.2\n",
      "Note: you may need to restart the kernel to use updated packages.\n"
     ]
    },
    {
     "name": "stderr",
     "output_type": "stream",
     "text": [
      "  WARNING: The scripts f2py.exe and numpy-config.exe are installed in 'c:\\Users\\Mirosh\\miniconda3\\envs\\proyecto_tesla\\Scripts' which is not on PATH.\n",
      "  Consider adding this directory to PATH or, if you prefer to suppress this warning, use --no-warn-script-location.\n"
     ]
    }
   ],
   "source": [
    "pip install pandas"
   ]
  },
  {
   "cell_type": "code",
   "execution_count": 4,
   "metadata": {},
   "outputs": [],
   "source": [
    "from selenium import webdriver\n",
    "from selenium.webdriver.common.by import By\n",
    "from selenium.webdriver.common.keys import Keys\n",
    "from selenium.common.exceptions import NoSuchElementException\n",
    "import time\n",
    "import pandas as pd\n",
    "\n",
    "###Chrome ####\n",
    "c_options = webdriver.ChromeOptions()\n",
    "c_options.add_argument(\"--start-maximized\")\n",
    "c_driver = webdriver.Chrome(options=c_options) "
   ]
  },
  {
   "cell_type": "code",
   "execution_count": 80,
   "metadata": {},
   "outputs": [],
   "source": [
    "c_driver.get(\"https://www.tesla.com/es_ES/inventory/new/my?arrangeby=plh&zip=28008&range=0\")\n",
    "time.sleep(2)"
   ]
  },
  {
   "cell_type": "code",
   "execution_count": null,
   "metadata": {},
   "outputs": [],
   "source": [
    "#botton_cookies = //*[@id=\"tsla-accept-cookie\"]\n",
    "botton_cookies = c_driver.find_element(By.XPATH, '/html/body/div[2]/div[2]/button[1]')\n",
    "botton_cookies.click()\n",
    "time.sleep(2)\n",
    "\n"
   ]
  },
  {
   "cell_type": "code",
   "execution_count": 82,
   "metadata": {},
   "outputs": [],
   "source": [
    "def obtener_articulos_pagina():\n",
    "    articulos = []\n",
    "    try:\n",
    "\n",
    "        articulos = c_driver.find_elements(By.TAG_NAME, 'article')\n",
    "        #print(articulos)\n",
    "        \n",
    "        return articulos\n",
    "    except NoSuchElementException:\n",
    "        print(\"No se encontraron elementos con la clase especificada\")"
   ]
  },
  {
   "cell_type": "code",
   "execution_count": null,
   "metadata": {},
   "outputs": [],
   "source": [
    "def generar_diccionario_articulo(articulo, estado_coche):\n",
    "    diccionario_articulo = {}\n",
    "    datos_generales = articulo.find_element(By.CLASS_NAME, 'result-basic-info')\n",
    "    elementos_span_result_basic_info = datos_generales.find_elements(By.TAG_NAME, 'span')\n",
    "\n",
    "    \n",
    "    diccionario_articulo['modelo'] = elementos_span_result_basic_info[0].text\n",
    "    try:\n",
    "        diccionario_articulo['km'] = elementos_span_result_basic_info[1].text.split(\"con\")[1]\n",
    "    except IndexError:\n",
    "        diccionario_articulo['km'] = 0\n",
    "\n",
    "    try:\n",
    "        precio = articulo.find_element(By.CLASS_NAME, 'result-pricing')   \n",
    "        \n",
    "        valor_precio = precio.find_element(By.TAG_NAME, 'span')\n",
    "        diccionario_articulo['precio'] = valor_precio.text  \n",
    "    except NoSuchElementException:\n",
    "        diccionario_articulo['precio'] = 0\n",
    "    try:\n",
    "        div_pintura = articulo.find_elements(By.CLASS_NAME, 'tds-list-item')\n",
    "        \n",
    "        diccionario_articulo['pintura'] = div_pintura[2].text\n",
    "    except NoSuchElementException:\n",
    "        pintura = \"No hay pintura\"\n",
    "        diccionario_articulo['pintura'] = pintura\n",
    "    diccionario_articulo['estado'] = estado_coche\n",
    "    \n",
    "    #print(diccionario_articulo)\n",
    "def almacenar_en_lista(lista_diccionarios_datos_articulos, articulos, estado_coche):\n",
    "    for articulo in articulos:\n",
    "        diccionario = generar_diccionario_articulo(articulo, estado_coche)\n",
    "        lista_diccionarios_datos_articulos.append(diccionario)\n",
    "    \n",
    "    "
   ]
  },
  {
   "cell_type": "code",
   "execution_count": null,
   "metadata": {},
   "outputs": [
    {
     "data": {
      "text/plain": [
       "'articulos = obtener_articulos_pagina()\\nalmacenar_en_lista(lista_diccionarios_datos_articulos, articulos)'"
      ]
     },
     "execution_count": 97,
     "metadata": {},
     "output_type": "execute_result"
    }
   ],
   "source": [
    "lista_diccionarios_datos_articulos = []\n",
    "botones_filtros = []\n",
    "div_botones_modelos = c_driver.find_element(By.CLASS_NAME, 'tds-form-input-group')\n",
    "elementos_botones_modelos = div_botones_modelos[0].find_elements(By.TAG_NAME, 'input')\n",
    "div_tipo_inventario = c_driver.find_element(By.CLASS_NAME, 'tds-form-item')\n",
    "elementos_botones_inventario = div_tipo_inventario[0].find_elements(By.TAG_NAME, 'input')\n",
    "for modelo in elementos_botones_modelos:\n",
    "    for inventario in elementos_botones_inventario:\n",
    "        valor_inventario = inventario.get_attribute('value')\n",
    "        modelo.click()\n",
    "        inventario.click()\n",
    "        #hacemos scroll hasta abajo para cargar todos los elementos\n",
    "        c_driver.execute_script(\"window.scrollTo(0, document.body.scrollHeight);\")\n",
    "        time.sleep(5)\n",
    "        articulos = obtener_articulos_pagina()\n",
    "        almacenar_en_lista(lista_diccionarios_datos_articulos, articulos, valor_inventario)\n",
    "\n",
    "        \n",
    "\n",
    "\n",
    "\"\"\"articulos = obtener_articulos_pagina()\n",
    "almacenar_en_lista(lista_diccionarios_datos_articulos, articulos)\"\"\"\n",
    "\n",
    "\n",
    "    \n"
   ]
  },
  {
   "cell_type": "code",
   "execution_count": null,
   "metadata": {},
   "outputs": [],
   "source": []
  }
 ],
 "metadata": {
  "kernelspec": {
   "display_name": "proyecto_tesla",
   "language": "python",
   "name": "python3"
  },
  "language_info": {
   "codemirror_mode": {
    "name": "ipython",
    "version": 3
   },
   "file_extension": ".py",
   "mimetype": "text/x-python",
   "name": "python",
   "nbconvert_exporter": "python",
   "pygments_lexer": "ipython3",
   "version": "3.11.11"
  }
 },
 "nbformat": 4,
 "nbformat_minor": 2
}
